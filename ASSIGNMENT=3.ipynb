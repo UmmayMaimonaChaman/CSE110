{
  "nbformat": 4,
  "nbformat_minor": 0,
  "metadata": {
    "colab": {
      "provenance": [],
      "authorship_tag": "ABX9TyNsa+uQ2ryCoPQaVZJCDGku",
      "include_colab_link": true
    },
    "kernelspec": {
      "name": "python3",
      "display_name": "Python 3"
    },
    "language_info": {
      "name": "python"
    }
  },
  "cells": [
    {
      "cell_type": "markdown",
      "metadata": {
        "id": "view-in-github",
        "colab_type": "text"
      },
      "source": [
        "<a href=\"https://colab.research.google.com/github/UmmayMaimonaChaman/CSE110/blob/main/ASSIGNMENT%3D3.ipynb\" target=\"_parent\"><img src=\"https://colab.research.google.com/assets/colab-badge.svg\" alt=\"Open In Colab\"/></a>"
      ]
    },
    {
      "cell_type": "code",
      "source": [
        "#TASK=1\n",
        "#TYPE1\n",
        "num=input()\n",
        "print(num[::-1])"
      ],
      "metadata": {
        "colab": {
          "base_uri": "https://localhost:8080/"
        },
        "id": "fDOotKhboa5j",
        "outputId": "068c1f20-ee77-4238-b2f3-99ab9aa12270"
      },
      "execution_count": null,
      "outputs": [
        {
          "output_type": "stream",
          "name": "stdout",
          "text": [
            "CSE110\n",
            "011ESC\n"
          ]
        }
      ]
    },
    {
      "cell_type": "code",
      "source": [
        "#TASK=1\n",
        "#TYPE=2\n",
        "s = input()\n",
        "for i in range(len(s)-1, -1, -1):\n",
        "  print(s[i], end=\"\")\n",
        "\n",
        "\n",
        "#list\n",
        "'''list1=[1,2,3,4,5]\n",
        "list2=[]\n",
        "for i in range(len(list1)-1,-1,-1):\n",
        "  list2.append(list1[i])\n",
        "print(list2)'''"
      ],
      "metadata": {
        "id": "YZsbgUUj5cxR",
        "colab": {
          "base_uri": "https://localhost:8080/"
        },
        "outputId": "8ceea941-972b-4b94-f1b2-9235faf37d5d"
      },
      "execution_count": null,
      "outputs": [
        {
          "output_type": "stream",
          "name": "stdout",
          "text": [
            "cse110\n",
            "011esc"
          ]
        }
      ]
    },
    {
      "cell_type": "code",
      "source": [
        "#TASK=1(type-3)\n",
        "text=input()\n",
        "result=\"\"\n",
        "for i in text:\n",
        "  result=i+result\n",
        "print(result)"
      ],
      "metadata": {
        "colab": {
          "base_uri": "https://localhost:8080/"
        },
        "id": "W4GOq6CWcOPj",
        "outputId": "b3759109-8ca9-4bbd-f7d2-219fa6cd4eaa"
      },
      "execution_count": null,
      "outputs": [
        {
          "output_type": "stream",
          "name": "stdout",
          "text": [
            "CSE110\n",
            "011ESC\n"
          ]
        }
      ]
    },
    {
      "cell_type": "code",
      "source": [
        "#TASK=2\n",
        "str1=input()\n",
        "idx=int(input())\n",
        "str2=str1[idx::-1]\n",
        "str2+=str1[idx+1::1]\n",
        "print(str2)\n",
        "\n"
      ],
      "metadata": {
        "colab": {
          "base_uri": "https://localhost:8080/"
        },
        "id": "Q5-bcAv0tgr3",
        "outputId": "eaa19d0b-ebaa-4847-b783-d2d1da3b32b1"
      },
      "execution_count": null,
      "outputs": [
        {
          "output_type": "stream",
          "name": "stdout",
          "text": [
            "123456789\n",
            "4\n",
            "543216789\n"
          ]
        }
      ]
    },
    {
      "cell_type": "code",
      "source": [
        "#TASK=2\n",
        "#type=2\n",
        "s = input()\n",
        "index = int(input())\n",
        "s = s[index::-1]+s[index+1:]\n",
        "print(s)"
      ],
      "metadata": {
        "colab": {
          "base_uri": "https://localhost:8080/"
        },
        "id": "BGYmZ3LGffVt",
        "outputId": "9dd45454-fd68-4d32-e6b9-d54d08130a9d"
      },
      "execution_count": null,
      "outputs": [
        {
          "output_type": "stream",
          "name": "stdout",
          "text": [
            "72418\n",
            "4\n",
            "81427\n"
          ]
        }
      ]
    },
    {
      "cell_type": "code",
      "source": [
        "#TASK=2\n",
        "#type=3\n",
        "s = input()\n",
        "index = int(input())\n",
        "for i in range(index, -1, -1):\n",
        "  print(s[i], end=\"\")\n",
        "for i in range(index+1, len(s)):\n",
        "  print(s[i], end=\"\")"
      ],
      "metadata": {
        "id": "bPieQ-tB5zV4"
      },
      "execution_count": null,
      "outputs": []
    },
    {
      "cell_type": "code",
      "source": [
        "#TASK=3\n",
        "str1=input()\n",
        "num=True\n",
        "for i in str1:\n",
        "  if i==\"0\" or i==\"1\":\n",
        "    pass\n",
        "  else:\n",
        "    num=False\n",
        "    break\n",
        "if(num):\n",
        "  print(\"Binary Number\")\n",
        "else:\n",
        "  print(\"Not a Binary Number\")\n"
      ],
      "metadata": {
        "colab": {
          "base_uri": "https://localhost:8080/"
        },
        "id": "q45GA1JKxYcU",
        "outputId": "f6069a84-ae51-4362-c4f0-d881ea684ebb"
      },
      "execution_count": null,
      "outputs": [
        {
          "output_type": "stream",
          "name": "stdout",
          "text": [
            "1110001\n",
            "Binary Number\n"
          ]
        }
      ]
    },
    {
      "cell_type": "code",
      "source": [
        "#TASK=4\n",
        "str1=input()\n",
        "num=\"\"\n",
        "\n",
        "if (str1[len(str1)-2:]==\"er\"):\n",
        "  num=str1[0:len(str1)-2:]\n",
        "  print(num+\"est\")\n",
        "elif(str1[len(str1)-3:]==\"est\"):\n",
        "  print(str1)\n",
        "elif(len(str1)<4):\n",
        "  print(str1)\n",
        "else:\n",
        "  print(str1+\"er\")\n",
        "\n"
      ],
      "metadata": {
        "colab": {
          "base_uri": "https://localhost:8080/"
        },
        "id": "ou4HdKHV064Y",
        "outputId": "60356529-1683-44c9-a21c-83945caaf68c"
      },
      "execution_count": null,
      "outputs": [
        {
          "output_type": "stream",
          "name": "stdout",
          "text": [
            "chaman\n",
            "chamaner\n"
          ]
        }
      ]
    },
    {
      "cell_type": "code",
      "source": [
        "#TASK=4\n",
        "#type=2\n",
        "s = input()\n",
        "if len(s) > 3:\n",
        "  if s[len(s)-2:] == \"er\":\n",
        "    s = s[:len(s)-2] + \"est\"\n",
        "  elif s[len(s)-3:] != \"est\":\n",
        "      s += \"er\"\n",
        "\n",
        "print(s)\n",
        "\n",
        "\n",
        "#s = input()\n",
        "#if len(s) > 3:\n",
        "#  if s.endswith(\"er\"):\n",
        "#    s = s[:len(s)-2:] + \"est\"\n",
        "#  elif not s.endswith(\"est\"):\n",
        "#      s += \"er\"\n",
        "#print(s)"
      ],
      "metadata": {
        "id": "kc6q8m-Q6bQ_"
      },
      "execution_count": null,
      "outputs": []
    },
    {
      "cell_type": "code",
      "source": [
        "#TASk=5\n",
        "num=input()\n",
        "for row in range(len(num)):\n",
        "    for column in range(0,row+1):\n",
        "        print(num[column],end=\"\")\n",
        "    print()"
      ],
      "metadata": {
        "colab": {
          "base_uri": "https://localhost:8080/"
        },
        "id": "cNBdOVS_2V20",
        "outputId": "3aecac70-4e2c-4d77-c452-dc7fdde5bbaf"
      },
      "execution_count": null,
      "outputs": [
        {
          "output_type": "stream",
          "name": "stdout",
          "text": [
            "BANGLA\n",
            "B\n",
            "BA\n",
            "BAN\n",
            "BANG\n",
            "BANGL\n",
            "BANGLA\n"
          ]
        }
      ]
    },
    {
      "cell_type": "code",
      "source": [
        "#TASK=5(type2)\n",
        "my_input = input(\"Enter a string of one word: \")\n",
        "s = ''\n",
        "for char in my_input:\n",
        "  s += char\n",
        "  print(s)"
      ],
      "metadata": {
        "colab": {
          "base_uri": "https://localhost:8080/"
        },
        "id": "7LRv-H02v8jP",
        "outputId": "7b83b1d4-42e7-48c8-abdc-a97674eb245b"
      },
      "execution_count": null,
      "outputs": [
        {
          "output_type": "stream",
          "name": "stdout",
          "text": [
            "Enter a string of one word: bangla\n",
            "b\n",
            "ba\n",
            "ban\n",
            "bang\n",
            "bangl\n",
            "bangla\n"
          ]
        }
      ]
    },
    {
      "cell_type": "code",
      "source": [
        "#TASk=5(type=3,4)\n",
        "s = input()\n",
        "for i in range(len(s)):\n",
        "  print(s[:i+1])\n",
        "\n",
        "\n",
        "#s = input()\n",
        "#for i in range(len(s)):\n",
        "#  for j in range(i+1):\n",
        "#    print(s[j], end=\"\")\n",
        "#  print()"
      ],
      "metadata": {
        "id": "82trUUrg7J7M"
      },
      "execution_count": null,
      "outputs": []
    },
    {
      "cell_type": "code",
      "source": [
        "#TASK=6\n",
        "str1=input()\n",
        "for i in str1:\n",
        "  print(i,\":\",ord(i))"
      ],
      "metadata": {
        "colab": {
          "base_uri": "https://localhost:8080/"
        },
        "id": "Yj2LpiKZBewy",
        "outputId": "17e8a560-89fc-44a1-d938-8a77c5ff361a"
      },
      "execution_count": null,
      "outputs": [
        {
          "output_type": "stream",
          "name": "stdout",
          "text": [
            "Programming\n",
            "P : 80\n",
            "r : 114\n",
            "o : 111\n",
            "g : 103\n",
            "r : 114\n",
            "a : 97\n",
            "m : 109\n",
            "m : 109\n",
            "i : 105\n",
            "n : 110\n",
            "g : 103\n"
          ]
        }
      ]
    },
    {
      "cell_type": "code",
      "source": [
        "#TASK=7\n",
        "n=input(\"Enter a word : \")\n",
        "for i in n:\n",
        "    if i ==\"z\":\n",
        "        print(\"a\", end=\"\")\n",
        "    else:\n",
        "        print(chr(ord(i)+1) , end=\"\")"
      ],
      "metadata": {
        "colab": {
          "base_uri": "https://localhost:8080/"
        },
        "id": "U1m7ul2mDGFG",
        "outputId": "6934aa14-21c1-4a53-af7b-a7cbe6482e6d"
      },
      "execution_count": null,
      "outputs": [
        {
          "output_type": "stream",
          "name": "stdout",
          "text": [
            "Enter a word : the cow\n",
            "uif!dpx"
          ]
        }
      ]
    },
    {
      "cell_type": "code",
      "source": [
        "#TASK=8\n",
        "name=input()\n",
        "length=len(name)\n",
        "res = ''\n",
        "\n",
        "for i in range(length):\n",
        "    if i%2 == 0:\n",
        "      pass\n",
        "    else:\n",
        "      convertion=chr(ord(name[i])-32)\n",
        "      res=res+convertion\n",
        "\n",
        "print(res)\n",
        "\n"
      ],
      "metadata": {
        "id": "DULMvCbWHPoa",
        "colab": {
          "base_uri": "https://localhost:8080/"
        },
        "outputId": "c9db3029-7157-424a-adf8-5daecf6315d1"
      },
      "execution_count": null,
      "outputs": [
        {
          "output_type": "stream",
          "name": "stdout",
          "text": [
            "string\n",
            "TIG\n"
          ]
        }
      ]
    },
    {
      "cell_type": "code",
      "source": [
        "#TASK=9\n",
        "word=input(\"Enter a word : \")\n",
        "length=len(word)\n",
        "res=\"\"\n",
        "\n",
        "for i in range(length):\n",
        "  if i<length-1:\n",
        "    if word[i]!=word[i+1]:\n",
        "      res=res+word[i]\n",
        "  else:\n",
        "    res=res+word[i]\n",
        "print(res)"
      ],
      "metadata": {
        "colab": {
          "base_uri": "https://localhost:8080/"
        },
        "id": "h9QrTIx35wg_",
        "outputId": "a4ee87c4-0c73-4c9a-ae1a-d0b226d43c8d"
      },
      "execution_count": null,
      "outputs": [
        {
          "output_type": "stream",
          "name": "stdout",
          "text": [
            "Enter a word : aabbccddeeffgghh\n",
            "abcdefgh\n"
          ]
        }
      ]
    },
    {
      "cell_type": "code",
      "source": [
        "#TASK=9(type=2)\n",
        "s = input()\n",
        "s1 = last = \"\"\n",
        "for i in s:\n",
        "  if i != last:\n",
        "    s1 += last\n",
        "    last = i\n",
        "s1 += last\n",
        "print(s1)"
      ],
      "metadata": {
        "id": "gImk0zcj88Wl",
        "colab": {
          "base_uri": "https://localhost:8080/"
        },
        "outputId": "4f39d2cc-4eb3-406d-ef5a-bd80485c7210"
      },
      "execution_count": null,
      "outputs": [
        {
          "output_type": "stream",
          "name": "stdout",
          "text": [
            "aabbccddeeffgghh\n",
            "abcdefgh\n"
          ]
        }
      ]
    },
    {
      "cell_type": "code",
      "source": [
        "#TASK=10(type=1)\n",
        "s = input()\n",
        "n1=0\n",
        "w1=0\n",
        "w2=0\n",
        "n2=0\n",
        "a=\"\"\n",
        "\n",
        "while s[n1]!=\",\":\n",
        "  n1+=1\n",
        "w2=n1+2\n",
        "n2=len(s)\n",
        "\n",
        "while w1<n1 and w2<n2:\n",
        "  a+=s[w1] +s[w2]\n",
        "  w1==1\n",
        "  w2+=1\n",
        "\n",
        "if w1<n1:\n",
        "  a+= s[w1:n1]\n",
        "else:\n",
        "  a+=s[w2:n2]\n",
        "print(a)"
      ],
      "metadata": {
        "id": "sLw2ISvUtRX8"
      },
      "execution_count": null,
      "outputs": []
    },
    {
      "cell_type": "code",
      "source": [
        "#TASK=10(type=2)\n",
        "s = input()\n",
        "s1, s2 = s.split(\", \")\n",
        "leftover = s2[len(s1):len(s2)] #leftover string if, s1 <= s2\n",
        "for i in range(len(s1)):\n",
        "  if i > len(s2)-1:\n",
        "    leftover = s1[len(s2):len(s1)] #New leftover string because we got, s1 > s2\n",
        "    break\n",
        "  print(s1[i], s2[i], sep=\"\", end=\"\")\n",
        "print(leftover)"
      ],
      "metadata": {
        "id": "KqRdqt1H_7D0",
        "colab": {
          "base_uri": "https://localhost:8080/"
        },
        "outputId": "10ae1619-4864-4a3f-f056-66388910bad2"
      },
      "execution_count": null,
      "outputs": [
        {
          "output_type": "stream",
          "name": "stdout",
          "text": [
            "ijkl, ABCDENDFGH\n",
            "iAjBkClDENDFGH\n"
          ]
        }
      ]
    },
    {
      "cell_type": "code",
      "source": [
        "#TASK=10(type=3)\n",
        "s = input()\n",
        "for i in range(len(s)):\n",
        "  if s[i:i+2] == \", \":\n",
        "    s1 = s[:i]\n",
        "    s2 = s[i+2:]\n",
        "    break\n",
        "#s1, s2 = s.split(\", \")\n",
        "if len(s1) < len(s2):\n",
        "  short = len(s1)\n",
        "  leftover = s2[len(s1):]\n",
        "else:\n",
        "  short = len(s2)\n",
        "  leftover = s1[len(s2):]\n",
        "for i in range(short):\n",
        "  print(s1[i]+s2[i], end=\"\")\n",
        "print(leftover)"
      ],
      "metadata": {
        "colab": {
          "base_uri": "https://localhost:8080/"
        },
        "id": "siPD2qeu_Ozc",
        "outputId": "1327d297-a34e-4e35-bad4-4a61dc9583a0"
      },
      "execution_count": null,
      "outputs": [
        {
          "output_type": "stream",
          "name": "stdout",
          "text": [
            "ijkl, ABCDENDFGH\n",
            "iAjBkClDENDFGH\n"
          ]
        }
      ]
    },
    {
      "cell_type": "code",
      "source": [
        "#TASK=10(type=4)\n",
        "s = input()\n",
        "for i in range(len(s)):\n",
        "  if s[i:i] == \", \":\n",
        "    s1 = s[:i]\n",
        "    s2 = s[i+2:]\n",
        "    break\n",
        "#s1, s2 = s.split(\", \")\n",
        "long_s = s2\n",
        "index = len(s1)\n",
        "for i in range(len(s1)):\n",
        "  if i > len(s2)-1:\n",
        "    long_s = s1\n",
        "    index = len(s2)\n",
        "    break\n",
        "  print(s1[i], s2[i], sep=\"\", end=\"\")\n",
        "for i in range(index, len(long_s)):\n",
        "  print(long_s[i], end=\"\")"
      ],
      "metadata": {
        "colab": {
          "base_uri": "https://localhost:8080/"
        },
        "id": "8fqP4P1n-BTo",
        "outputId": "02f3a5f7-059a-4911-c31b-ffde11b647ec"
      },
      "execution_count": null,
      "outputs": [
        {
          "output_type": "stream",
          "name": "stdout",
          "text": [
            "ijkl, ABCDENDFGH\n",
            "iAjBkClDENDFGH"
          ]
        }
      ]
    },
    {
      "cell_type": "markdown",
      "source": [
        "# ***UNGRADED***"
      ],
      "metadata": {
        "id": "7V34ulZXRacg"
      }
    },
    {
      "cell_type": "code",
      "source": [
        "#TASK=16\n",
        "s = input()\n",
        "c = input()\n",
        "s2 = \"\"\n",
        "for i in s:\n",
        "  if i != c:\n",
        "    s2 += i\n",
        "if c not in s:\n",
        "  s2 = s[1:-1]\n",
        "print(s2)"
      ],
      "metadata": {
        "id": "gPZmebqpr43O",
        "colab": {
          "base_uri": "https://localhost:8080/"
        },
        "outputId": "b9f71cfc-22ec-4acb-c304-cb284a8f7401"
      },
      "execution_count": null,
      "outputs": [
        {
          "output_type": "stream",
          "name": "stdout",
          "text": [
            "eren yeager\n",
            "k\n",
            "ren yeage\n"
          ]
        }
      ]
    },
    {
      "cell_type": "code",
      "source": [
        "#TASK=17\n",
        "s = input()\n",
        "c = input()\n",
        "for i in s:\n",
        "  if i == c:\n",
        "    print()\n",
        "  else:\n",
        "    print(i, end=\"\")"
      ],
      "metadata": {
        "colab": {
          "base_uri": "https://localhost:8080/"
        },
        "id": "pDVG20O3CEkC",
        "outputId": "a2d398c0-2104-408b-ee92-29a781579487"
      },
      "execution_count": null,
      "outputs": [
        {
          "output_type": "stream",
          "name": "stdout",
          "text": [
            "tom@gmail,harry@yahoo,bob@gmail,mary@gmail\n",
            ",\n",
            "tom@gmail\n",
            "harry@yahoo\n",
            "bob@gmail\n",
            "mary@gmail"
          ]
        }
      ]
    },
    {
      "cell_type": "code",
      "source": [
        "#TASK=18\n",
        "s = input()\n",
        "n = int(input())\n",
        "n = n*3 if n%2 else n*2\n",
        "print(s*n)\n"
      ],
      "metadata": {
        "colab": {
          "base_uri": "https://localhost:8080/"
        },
        "id": "6JkDVrXHCbVr",
        "outputId": "2fe9dd9e-869d-46c8-cbf1-141da83f73a6"
      },
      "execution_count": null,
      "outputs": [
        {
          "output_type": "stream",
          "name": "stdout",
          "text": [
            "CSE110\n",
            "4\n",
            "CSE110CSE110CSE110CSE110CSE110CSE110CSE110CSE110\n"
          ]
        }
      ]
    },
    {
      "cell_type": "code",
      "source": [
        "#TASK=19\n",
        "s = input()\n",
        "s1 = \"\"\n",
        "j = 0\n",
        "for i in range(len(s)):\n",
        "  if not j%2 and ord(s[i]) in range(97, 123):\n",
        "    s1 += chr(ord(s[i])-32)\n",
        "  elif j%2 and ord(s[i]) in range(65, 91):\n",
        "    s1 += chr(ord(s[i])+32)\n",
        "  else:\n",
        "    s1 += s[i]\n",
        "  if s[i] != \" \":\n",
        "    j += 1\n",
        "print(s1)"
      ],
      "metadata": {
        "colab": {
          "base_uri": "https://localhost:8080/"
        },
        "id": "vjgJFu6jDQNP",
        "outputId": "05abeaa5-1cba-4b3f-cc3d-69e1b4ca852e"
      },
      "execution_count": null,
      "outputs": [
        {
          "output_type": "stream",
          "name": "stdout",
          "text": [
            "Python programming is very easy\n",
            "PyThOn PrOgRaMmInG iS vErY eAsY\n"
          ]
        }
      ]
    },
    {
      "cell_type": "code",
      "source": [
        "#TASK=19(type=2)\n",
        "s = input(\"\")\n",
        "b=\"\"\n",
        "for i in range(len(s)):\n",
        "  if i%2==0:\n",
        "    b=b+s[i].upper()\n",
        "  else:\n",
        "    b=b+s[i]\n",
        "print(b)"
      ],
      "metadata": {
        "colab": {
          "base_uri": "https://localhost:8080/"
        },
        "id": "6WHqwDI3eVhP",
        "outputId": "4aa443c8-fbbb-4143-e60d-db06a31077ff"
      },
      "execution_count": null,
      "outputs": [
        {
          "output_type": "stream",
          "name": "stdout",
          "text": [
            "Python programming is very easy\n",
            "PyThOn pRoGrAmMiNg iS VeRy eAsY\n"
          ]
        }
      ]
    },
    {
      "cell_type": "code",
      "source": [
        "strg=input()\n",
        "for i in range(len(strg)):\n",
        "  if strg[i]==',':\n",
        "    b=i\n",
        "    break\n",
        "s1=strg[:b]\n",
        "s2=strg[b+2:]\n",
        "if len(s1)>len(s2):\n",
        "  j=len(s2)\n",
        "  max=s1\n",
        "else:\n",
        "  j=len(s1)\n",
        "  max=s2\n",
        "for char in range(j):\n",
        "  print(s1[char]+s2[char],end=\"\")\n",
        "print(max[j:])"
      ],
      "metadata": {
        "colab": {
          "base_uri": "https://localhost:8080/"
        },
        "id": "MNa0VHtje8aX",
        "outputId": "2b898974-bb38-46e9-819d-301faff6502d"
      },
      "execution_count": null,
      "outputs": [
        {
          "output_type": "stream",
          "name": "stdout",
          "text": [
            "ijkl, ABCDENDFGH\n",
            "iAjBkClDENDFGH\n"
          ]
        }
      ]
    },
    {
      "cell_type": "markdown",
      "source": [
        "# ***Tracing***"
      ],
      "metadata": {
        "id": "UPKVsfRXnHNl"
      }
    },
    {
      "cell_type": "code",
      "source": [
        "#11\n",
        "i = 10\n",
        "while(i >= -20):\n",
        "    if(i < 0):\n",
        "        test = \" != \"\n",
        "        test = str(i//2) + test + str(int(i/2))\n",
        "    else:\n",
        "        test = \" == \"\n",
        "        test = str(i//2) + test + str(int(i/2))\n",
        "    print(test)\n",
        "    i -= 5\n",
        "\n"
      ],
      "metadata": {
        "colab": {
          "base_uri": "https://localhost:8080/"
        },
        "id": "hY0s590qnNba",
        "outputId": "983e3926-b7da-47c3-f9fa-f7f342e0d861"
      },
      "execution_count": null,
      "outputs": [
        {
          "output_type": "stream",
          "name": "stdout",
          "text": [
            "5 == 5\n",
            "2 == 2\n",
            "0 == 0\n",
            "-3 != -2\n",
            "-5 != -5\n",
            "-8 != -7\n",
            "-10 != -10\n"
          ]
        }
      ]
    },
    {
      "cell_type": "code",
      "source": [
        "#12\n",
        "test = \"\"\n",
        "i = 0\n",
        "j = 0\n",
        "k = 15\n",
        "test = \"-->\"\n",
        "while i < 5:\n",
        "    j = k - 1\n",
        "    k -= 1\n",
        "    while j > 10:\n",
        "        test = str(i + j) + \"-->\" + test\n",
        "        print(test)\n",
        "        j -= 1\n",
        "    i += 1\n",
        "\n"
      ],
      "metadata": {
        "colab": {
          "base_uri": "https://localhost:8080/"
        },
        "id": "ST26ax46nXcS",
        "outputId": "2f4d1822-642c-434c-d35a-5c551fb5370f"
      },
      "execution_count": null,
      "outputs": [
        {
          "output_type": "stream",
          "name": "stdout",
          "text": [
            "14-->-->\n",
            "13-->14-->-->\n",
            "12-->13-->14-->-->\n",
            "11-->12-->13-->14-->-->\n",
            "14-->11-->12-->13-->14-->-->\n",
            "13-->14-->11-->12-->13-->14-->-->\n",
            "12-->13-->14-->11-->12-->13-->14-->-->\n",
            "14-->12-->13-->14-->11-->12-->13-->14-->-->\n",
            "13-->14-->12-->13-->14-->11-->12-->13-->14-->-->\n",
            "14-->13-->14-->12-->13-->14-->11-->12-->13-->14-->-->\n"
          ]
        }
      ]
    },
    {
      "cell_type": "code",
      "source": [
        "test = \"\"\n",
        "i = 5\n",
        "j = 0\n",
        "k = 15\n",
        "while i< 10:\n",
        "    k-=1\n",
        "    j = k\n",
        "    while j > 10:\n",
        "        if (j % 2) == 0:\n",
        "            test = \"<--\"\n",
        "            test = str(test) + str(i) + str(2) + \"-->\" + str(int(j / 2))\n",
        "        else:\n",
        "            test = \"-->\"\n",
        "            test = \"-->\" + str(int(i / 2)) + str(test) + str(j)\n",
        "        print(test)\n",
        "        j = j-1\n",
        "    i+=1\n",
        "\n"
      ],
      "metadata": {
        "id": "98fJkVPKneSR",
        "outputId": "99477bd9-0476-4ca0-a461-ce65bdd2eb5a",
        "colab": {
          "base_uri": "https://localhost:8080/"
        }
      },
      "execution_count": null,
      "outputs": [
        {
          "output_type": "stream",
          "name": "stdout",
          "text": [
            "<--52-->7\n",
            "-->2-->13\n",
            "<--52-->6\n",
            "-->2-->11\n",
            "-->3-->13\n",
            "<--62-->6\n",
            "-->3-->11\n",
            "<--72-->6\n",
            "-->3-->11\n",
            "-->4-->11\n"
          ]
        }
      ]
    },
    {
      "cell_type": "code",
      "source": [
        "q=2+1-(0+7/3)/3.0%2\n",
        "print(7/3)\n",
        "print((7/3)/3.0%2)\n"
      ],
      "metadata": {
        "colab": {
          "base_uri": "https://localhost:8080/"
        },
        "id": "CPhHmX5HCNK7",
        "outputId": "65973230-9675-4968-ef5c-5e4b1d36fd82"
      },
      "execution_count": null,
      "outputs": [
        {
          "output_type": "stream",
          "name": "stdout",
          "text": [
            "2.3333333333333335\n",
            "0.7777777777777778\n"
          ]
        }
      ]
    }
  ]
}