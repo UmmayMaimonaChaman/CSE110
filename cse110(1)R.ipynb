{
  "nbformat": 4,
  "nbformat_minor": 0,
  "metadata": {
    "colab": {
      "provenance": []
    },
    "kernelspec": {
      "name": "python3",
      "display_name": "Python 3"
    },
    "language_info": {
      "name": "python"
    }
  },
  "cells": [
    {
      "cell_type": "markdown",
      "source": [
        "# **ASSIGNMENT1**"
      ],
      "metadata": {
        "id": "2ZU8MZCntI3l"
      }
    },
    {
      "cell_type": "code",
      "execution_count": null,
      "metadata": {
        "colab": {
          "base_uri": "https://localhost:8080/"
        },
        "id": "oZUMW6wE9RSI",
        "outputId": "f576a209-aa9d-4fc4-e8e3-3dfd53ff181f"
      },
      "outputs": [
        {
          "output_type": "stream",
          "name": "stdout",
          "text": [
            "hello world\n"
          ]
        }
      ],
      "source": [
        "#TASK1\n",
        "print(\"hello world\")"
      ]
    },
    {
      "cell_type": "code",
      "source": [
        "#TASK2\n",
        "print(54+56)"
      ],
      "metadata": {
        "colab": {
          "base_uri": "https://localhost:8080/"
        },
        "id": "NqagD9_B916z",
        "outputId": "895bfe38-88d9-4377-953c-fd0677d7009a"
      },
      "execution_count": null,
      "outputs": [
        {
          "output_type": "stream",
          "name": "stdout",
          "text": [
            "110\n"
          ]
        }
      ]
    },
    {
      "cell_type": "code",
      "source": [
        "#TASK3\n",
        "season = \"Summer\"\n",
        "year = 2023\n",
        "print(season)\n",
        "print(year)\n"
      ],
      "metadata": {
        "colab": {
          "base_uri": "https://localhost:8080/"
        },
        "id": "ktFRPZS999RH",
        "outputId": "a4fddd84-8464-4fbb-85af-ba03b71a0422"
      },
      "execution_count": null,
      "outputs": [
        {
          "output_type": "stream",
          "name": "stdout",
          "text": [
            "Summer\n",
            "2023\n"
          ]
        }
      ]
    },
    {
      "cell_type": "code",
      "source": [
        "#TASK4\n",
        "name = input(\"Enter your your name: \")\n",
        "print(\"Your name is\", name)"
      ],
      "metadata": {
        "colab": {
          "base_uri": "https://localhost:8080/"
        },
        "id": "yujo-FwN-u8D",
        "outputId": "22eca333-3c22-4b22-a1fd-556652af9676"
      },
      "execution_count": null,
      "outputs": [
        {
          "output_type": "stream",
          "name": "stdout",
          "text": [
            "Enter your your name: Chaman\n",
            "Your name is Chaman\n"
          ]
        }
      ]
    },
    {
      "cell_type": "code",
      "source": [
        "#TASK5\n",
        "m = int(input(\"Enter the value of m: \"))\n",
        "n = int(input(\"Enter the value of n: \"))\n",
        "print(m**n)"
      ],
      "metadata": {
        "colab": {
          "base_uri": "https://localhost:8080/"
        },
        "id": "3HTV0CmT_qcd",
        "outputId": "9a5b4c37-5217-4326-b46b-c6961c5e93bd"
      },
      "execution_count": null,
      "outputs": [
        {
          "output_type": "stream",
          "name": "stdout",
          "text": [
            "Enter the value of m: 2\n",
            "Enter the value of n: 3\n",
            "8\n"
          ]
        }
      ]
    },
    {
      "cell_type": "code",
      "source": [
        "#TASK6\n",
        "corner = int(input())//4\n",
        "max = corner*4\n",
        "print(max)"
      ],
      "metadata": {
        "id": "9PTgXKhPAaXa"
      },
      "execution_count": null,
      "outputs": []
    },
    {
      "cell_type": "code",
      "source": [
        "#TASK7\n",
        "A = int(input())\n",
        "B = int(input())\n",
        "C = int(input())\n",
        "D = float(input())\n",
        "\n",
        "formula = A**C + B*A - D/3\n",
        "print(int(formula))"
      ],
      "metadata": {
        "colab": {
          "base_uri": "https://localhost:8080/"
        },
        "id": "qnzCo92rBiJG",
        "outputId": "7b9dd10e-aa30-466c-902d-2141614081ad"
      },
      "execution_count": null,
      "outputs": [
        {
          "output_type": "stream",
          "name": "stdout",
          "text": [
            "88\n",
            "22\n",
            "1\n",
            "3.3\n",
            "2022\n"
          ]
        }
      ]
    },
    {
      "cell_type": "code",
      "source": [
        "#TASK8\n",
        "num = int(input())\n",
        "each = num//3\n",
        "left = num - each*3\n",
        "print(\"Each friend will receive\", each, \"chocolates\")\n",
        "print(\"The number of remaining chocolates is\", left)"
      ],
      "metadata": {
        "colab": {
          "base_uri": "https://localhost:8080/"
        },
        "id": "b5fuOkLMCKyc",
        "outputId": "7fd76d5f-928b-4513-f277-123eb91c5f0b"
      },
      "execution_count": null,
      "outputs": [
        {
          "output_type": "stream",
          "name": "stdout",
          "text": [
            "100\n",
            "Each friend will receive 33 chocolates\n",
            "The number of remaining chocolates is 1\n"
          ]
        }
      ]
    },
    {
      "cell_type": "markdown",
      "source": [
        "# ***UNGRADED***"
      ],
      "metadata": {
        "id": "nHeNYDBXh_qj"
      }
    },
    {
      "cell_type": "code",
      "source": [
        "#TASK=9\n",
        "m=input()\n",
        "n=input()\n",
        "print(n+m)"
      ],
      "metadata": {
        "colab": {
          "base_uri": "https://localhost:8080/"
        },
        "id": "LFJsQarkh_QC",
        "outputId": "a882a3f7-7b44-4dbd-d83f-bbe5a0fdff6f"
      },
      "execution_count": null,
      "outputs": [
        {
          "output_type": "stream",
          "name": "stdout",
          "text": [
            "Python\n",
            "3\n",
            "3Python\n"
          ]
        }
      ]
    },
    {
      "cell_type": "code",
      "source": [
        "#TASK10\n",
        "integer1= int(input(\"Enter the first integer: \"))\n",
        "float_num = float(input(\"Enter the float number: \"))\n",
        "integer2 = int(input(\"Enter the second integer: \"))\n",
        "res = integer1 + float_num\n",
        "result = str(res) + str(integer2)\n",
        "print(\"The inputs:\",integer1,float_num,integer2)\n",
        "print(\"The result is:\", result)"
      ],
      "metadata": {
        "colab": {
          "base_uri": "https://localhost:8080/"
        },
        "id": "ADWdS6MrlaGx",
        "outputId": "30b54624-5c2d-4bee-bec0-f0fee4ea5d78"
      },
      "execution_count": null,
      "outputs": [
        {
          "output_type": "stream",
          "name": "stdout",
          "text": [
            "Enter the first integer: 50\n",
            "Enter the float number: 5.5\n",
            "Enter the second integer: 1234\n",
            "The inputs: 50 5.5 1234\n",
            "The result is: 55.51234\n"
          ]
        }
      ]
    },
    {
      "cell_type": "code",
      "source": [
        "#TASK11\n",
        "number=int(input(\"Please enter a number: \"))\n",
        "\n",
        "if (number % 2 == 0):\n",
        "  print(\"True\")\n",
        "else:\n",
        "  print(\"False\")"
      ],
      "metadata": {
        "colab": {
          "base_uri": "https://localhost:8080/"
        },
        "id": "f6TXKs6Wlxxe",
        "outputId": "a5fdc185-2b6c-492d-9561-277913064b94"
      },
      "execution_count": null,
      "outputs": [
        {
          "output_type": "stream",
          "name": "stdout",
          "text": [
            "Please enter a number: -11\n",
            "False\n"
          ]
        }
      ]
    },
    {
      "cell_type": "markdown",
      "source": [
        "Rough\n"
      ],
      "metadata": {
        "id": "eCcmRuuVUI-Y"
      }
    },
    {
      "cell_type": "code",
      "source": [
        "#a\n",
        "number = int(input(\"Enter a number: \"))\n",
        "\n",
        "if number % 5 == 0 and number % 7 != 0:\n",
        "    print(number,\"is divisible by 5 and not divisible by 7.\")\n",
        "else:\n",
        "    print(number,\"is not divisible by 5 or is divisible by 7.\")"
      ],
      "metadata": {
        "id": "fU-AYOarUL3P"
      },
      "execution_count": null,
      "outputs": []
    },
    {
      "cell_type": "code",
      "source": [
        "#b\n",
        "number = int(input(\"Enter a number: \"))\n",
        "\n",
        "# Check divisibility\n",
        "if (number % 5 == 0 or number % 7 == 0) and not (number % 5 == 0 and number % 7 == 0):\n",
        "    print(number,\"is divisible by either 5 or 7 but not both.\")\n",
        "else:\n",
        "    print(number,\"is either not divisible by either 5 or 7, or it is divisible by both.\")\n",
        "\n",
        "\n"
      ],
      "metadata": {
        "id": "nfKoouPtUo4e"
      },
      "execution_count": null,
      "outputs": []
    },
    {
      "cell_type": "code",
      "source": [
        "# Get user input\n",
        "number = int(input(\"Enter an integer number: \"))\n",
        "\n",
        "# Check the number\n",
        "if number % 2 == 0 and number > 0:\n",
        "    print(\"no\")\n",
        "elif number % 2 == 0 or number > 0:\n",
        "    print(\"no\")\n",
        "else:\n",
        "    print(\"No\")"
      ],
      "metadata": {
        "colab": {
          "base_uri": "https://localhost:8080/"
        },
        "id": "DaDy9yt7V3p2",
        "outputId": "f712a9ee-a735-4da4-bfe3-4730cf8bb4f7"
      },
      "execution_count": null,
      "outputs": [
        {
          "output_type": "stream",
          "name": "stdout",
          "text": [
            "Enter an integer number: -8\n",
            "no\n"
          ]
        }
      ]
    },
    {
      "cell_type": "code",
      "source": [
        "age = int(input(\"Enter your age: \"))\n",
        "disabled = input(\"Are you disabled? (Yes/No): \")\n",
        "salary = int(input(\"Enter your salary: \"))\n",
        "basic_bonus = 0.25 * salary\n",
        "\n",
        "# Calculate disability bonus\n",
        "if disabled.lower() == \"yes\":\n",
        "    disability_bonus = 5000\n",
        "else:\n",
        "    disability_bonus = 3000\n",
        "\n",
        "# Calculate age bonus\n",
        "if age < 25:\n",
        "    age_bonus = 0\n",
        "elif 25 <= age <= 35:\n",
        "    age_bonus = 1000\n",
        "else:\n",
        "    age_bonus = 2000\n",
        "\n",
        "# Calculate total bonus\n",
        "total_bonus = basic_bonus + disability_bonus + age_bonus\n",
        "\n",
        "# Print the total bonus\n",
        "print(\"Your total bonus is:\",int(total_bonus))"
      ],
      "metadata": {
        "colab": {
          "base_uri": "https://localhost:8080/"
        },
        "id": "yOkFW6g2VGbp",
        "outputId": "b0baa7a4-3334-4bc0-e002-8079f8c8c170"
      },
      "execution_count": null,
      "outputs": [
        {
          "output_type": "stream",
          "name": "stdout",
          "text": [
            "Enter your age: 45\n",
            "Are you disabled? (Yes/No): yes\n",
            "Enter your salary: 40000\n",
            "Your total bonus is: 17000\n"
          ]
        }
      ]
    }
  ]
}