{
  "nbformat": 4,
  "nbformat_minor": 0,
  "metadata": {
    "colab": {
      "provenance": [],
      "authorship_tag": "ABX9TyPCdVtTQEmGBeifeO+Rp5Wz",
      "include_colab_link": true
    },
    "kernelspec": {
      "name": "python3",
      "display_name": "Python 3"
    },
    "language_info": {
      "name": "python"
    }
  },
  "cells": [
    {
      "cell_type": "markdown",
      "metadata": {
        "id": "view-in-github",
        "colab_type": "text"
      },
      "source": [
        "<a href=\"https://colab.research.google.com/github/UmmayMaimonaChaman/CSE110/blob/main/ASSIGNMENT%3D1.ipynb\" target=\"_parent\"><img src=\"https://colab.research.google.com/assets/colab-badge.svg\" alt=\"Open In Colab\"/></a>"
      ]
    },
    {
      "cell_type": "code",
      "source": [
        "#TASK=1\n",
        "\n",
        "var_1 = int(input('Please enter the first number: '))\n",
        "var_2 = int(input('Please enter the second number:'))\n",
        "total=0\n",
        "product=1\n",
        "difference=0\n",
        "\n",
        "#Addition\n",
        "total= var_1 + var_2\n",
        "#Multiplication\n",
        "product = var_1 * var_2\n",
        "#Subtraction\n",
        "difference = var_1 - var_2\n",
        "\n",
        "print(\"Sum =\", total)\n",
        "print(\"Product =\", product)\n",
        "print(\"Difference =\", difference)"
      ],
      "metadata": {
        "colab": {
          "base_uri": "https://localhost:8080/"
        },
        "id": "QqNWcK0OtDnl",
        "outputId": "4ba8481a-0842-4613-d00f-ed15f4fe7e40"
      },
      "execution_count": null,
      "outputs": [
        {
          "output_type": "stream",
          "name": "stdout",
          "text": [
            "Please enter the first number: 30\n",
            "Please enter the second number:5\n",
            "Sum = 35\n",
            "Product = 150\n",
            "Difference = 25\n"
          ]
        }
      ]
    },
    {
      "cell_type": "code",
      "source": [
        "#TASK-2\n",
        "import math\n",
        "\n",
        "radius = float(input(\"Please enter a number = \"))\n",
        "\n",
        "area = math.pi * radius ** 2\n",
        "print(\"Area is: \",area)\n",
        "\n",
        "circumference = 2*math.pi*radius\n",
        "print(\"circumference is: \", circumference)"
      ],
      "metadata": {
        "colab": {
          "base_uri": "https://localhost:8080/"
        },
        "id": "Is-7qLqVgsB4",
        "outputId": "3f956d7c-1f4c-46f5-81cb-c820b3ab2d36"
      },
      "execution_count": null,
      "outputs": [
        {
          "output_type": "stream",
          "name": "stdout",
          "text": [
            "Please enter a number = 3.5\n",
            "Area is:  38.48451000647496\n",
            "circumference is:  21.991148575128552\n"
          ]
        }
      ]
    },
    {
      "cell_type": "code",
      "source": [
        "#TASK-3\n",
        "\n",
        "num1 = int(input(\"Please enter a number:\"))\n",
        "num2 = int(input(\"Please enter a number:\"))\n",
        "\n",
        "if(num1>num2):\n",
        "  print(\"First is greater\")\n",
        "\n",
        "elif(num1<num2):\n",
        "  print(\"Second is greater\")\n",
        "\n",
        "else:\n",
        "  print(\"The numbers are equal\")"
      ],
      "metadata": {
        "colab": {
          "base_uri": "https://localhost:8080/"
        },
        "id": "yDU5B3igivMM",
        "outputId": "3e3b634d-422c-46bd-d830-7711771f64e5"
      },
      "execution_count": null,
      "outputs": [
        {
          "output_type": "stream",
          "name": "stdout",
          "text": [
            "Please enter a number:7\n",
            "Please enter a number:3\n",
            "First is greater\n"
          ]
        }
      ]
    },
    {
      "cell_type": "code",
      "source": [
        "#TASK-4\n",
        "\n",
        "num_1 = int(input(\"Please enter a number:\"))\n",
        "num_2 = int(input(\"Please enter a number:\"))\n",
        "\n",
        "if(num_1>num_2):\n",
        "  print(num_1-num_2)\n",
        "\n",
        "else:\n",
        "  print(num_2-num_1)"
      ],
      "metadata": {
        "colab": {
          "base_uri": "https://localhost:8080/"
        },
        "id": "gLm5bVbpkPqv",
        "outputId": "a6bcb9b0-c861-494c-9b8b-7feafc80fb93"
      },
      "execution_count": null,
      "outputs": [
        {
          "output_type": "stream",
          "name": "stdout",
          "text": [
            "Please enter a number:-40\n",
            "Please enter a number:-4\n",
            "36\n"
          ]
        }
      ]
    },
    {
      "cell_type": "code",
      "source": [
        "#TASK=5\n",
        "\n",
        "number=int(input(\"Please enter a number: \"))\n",
        "\n",
        "if (number % 2 == 0):\n",
        "  print(\"The number is even\")\n",
        "else:\n",
        "  print(\"The number is odd\")"
      ],
      "metadata": {
        "colab": {
          "base_uri": "https://localhost:8080/"
        },
        "id": "EwuFnzcclqhi",
        "outputId": "bee69a96-76cc-4590-9388-637e02007e45"
      },
      "execution_count": null,
      "outputs": [
        {
          "output_type": "stream",
          "name": "stdout",
          "text": [
            "Please enter a number: 5\n",
            "The number is odd\n"
          ]
        }
      ]
    },
    {
      "cell_type": "code",
      "source": [
        "#TASK=5\n",
        "#type2\n",
        "number=int(input(\"Please enter a number: \"))\n",
        "\n",
        "if number % 2:\n",
        "  print(\"The number is odd\")\n",
        "else:\n",
        "  print(\"The number is even\")"
      ],
      "metadata": {
        "colab": {
          "base_uri": "https://localhost:8080/"
        },
        "id": "6fPxTg38CER1",
        "outputId": "65722d2d-197e-4138-a301-a7e864e174da"
      },
      "execution_count": null,
      "outputs": [
        {
          "output_type": "stream",
          "name": "stdout",
          "text": [
            "Please enter a number: 55\n",
            "The number is odd\n"
          ]
        }
      ]
    },
    {
      "cell_type": "code",
      "source": [
        "#TASK=6\n",
        "num=int(input(\"Please enter a number: \"))\n",
        "\n",
        "if (num%2==0) or (num%5==0):\n",
        "  print(num)                                                            # OR #\n",
        "else:\n",
        "  print(\"Not a multiple of 2 or 5\")"
      ],
      "metadata": {
        "colab": {
          "base_uri": "https://localhost:8080/"
        },
        "id": "uq6-FybdAKyi",
        "outputId": "e8185df9-5812-4af3-b008-89e61e32eccb"
      },
      "execution_count": null,
      "outputs": [
        {
          "output_type": "stream",
          "name": "stdout",
          "text": [
            "Please enter a number: 5\n",
            "5\n"
          ]
        }
      ]
    },
    {
      "cell_type": "code",
      "source": [
        "#TASK=7\n",
        "num=int(input(\"Please enter a number: \"))\n",
        "\n",
        "if (num%2==0) and (num%5==0):\n",
        "  print(\"Multiple of 2 and 5 both\")                                      #either or but not both#\n",
        "elif (num%2==0) or (num%5==0):\n",
        "  print(num)\n",
        "\n",
        "else:\n",
        "  print(\"Not a multiple we want\")"
      ],
      "metadata": {
        "colab": {
          "base_uri": "https://localhost:8080/"
        },
        "id": "zODPqVr3GC2k",
        "outputId": "d79ef74a-6777-412e-cb44-094b754fc43d"
      },
      "execution_count": null,
      "outputs": [
        {
          "output_type": "stream",
          "name": "stdout",
          "text": [
            "Please enter a number: 10\n",
            "Multiple of 2 and 5 both\n"
          ]
        }
      ]
    },
    {
      "cell_type": "code",
      "source": [
        "#TASK=8\n",
        "num=int(input(\"Please enter a number: \"))\n",
        "\n",
        "if (num%2==0) and (num%5==0):                                             # AND #\n",
        "  print(num)\n",
        "\n",
        "else:\n",
        "  print(\"Not a multiple of 2 and 5\")"
      ],
      "metadata": {
        "colab": {
          "base_uri": "https://localhost:8080/"
        },
        "id": "jEEhAaVIKPVk",
        "outputId": "18304f47-0218-47d7-ec72-5093434a9303"
      },
      "execution_count": null,
      "outputs": [
        {
          "output_type": "stream",
          "name": "stdout",
          "text": [
            "Please enter a number: 7\n",
            "Not a multiple of 2 and 5\n"
          ]
        }
      ]
    },
    {
      "cell_type": "code",
      "source": [
        "#TASK=9\n",
        "num=int(input(\"Please enter a number: \"))\n",
        "\n",
        "hour = num//3600\n",
        "remaining_sec = num%3600\n",
        "minutes = remaining_sec//60\n",
        "second = remaining_sec%60\n",
        "\n",
        "print(\"Hour : \",hour,\"Minutes : \",minutes,\"Seconds : \",second)"
      ],
      "metadata": {
        "colab": {
          "base_uri": "https://localhost:8080/"
        },
        "id": "DyswTq6vvYqU",
        "outputId": "00187fd6-284f-4693-ab7f-bbb7f85896dc"
      },
      "execution_count": null,
      "outputs": [
        {
          "output_type": "stream",
          "name": "stdout",
          "text": [
            "Please enter a number: 500\n",
            "Hour :  0 Minutes :  8 Seconds :  20\n"
          ]
        }
      ]
    },
    {
      "cell_type": "code",
      "source": [
        "#TASK=10\n",
        "working_hour=int(input(\"Please enter a number = \"))\n",
        "if (working_hour<0):\n",
        "  print(\"Hour cannot be negative\")\n",
        "\n",
        "elif (working_hour<=40) and (working_hour>=0):\n",
        "  print(working_hour*200)\n",
        "\n",
        "elif (working_hour>40) and (working_hour<=168):\n",
        "  print(8000+(working_hour-40)*300)\n",
        "\n",
        "else:\n",
        "  print(\"Impossible to work more than 168 hours weekly \")"
      ],
      "metadata": {
        "colab": {
          "base_uri": "https://localhost:8080/"
        },
        "id": "NGmL4vuf3gft",
        "outputId": "6bc7206c-2f0c-49a0-feae-c04a8d4a09d2"
      },
      "execution_count": null,
      "outputs": [
        {
          "output_type": "stream",
          "name": "stdout",
          "text": [
            "Please enter a number = 55\n",
            "12500\n"
          ]
        }
      ]
    },
    {
      "cell_type": "code",
      "source": [
        "#TASK=11\n",
        "s = int(input(\"Please enter your value = \"))\n",
        "if (s<100):\n",
        "  print(3000-(125*s**2))\n",
        "\n",
        "elif (s>=100):\n",
        "  print(12000/(4+s**2/14900))"
      ],
      "metadata": {
        "colab": {
          "base_uri": "https://localhost:8080/"
        },
        "id": "PyETv6NF7duJ",
        "outputId": "0a224af1-6588-4146-9421-5b40fe6dbd81"
      },
      "execution_count": null,
      "outputs": [
        {
          "output_type": "stream",
          "name": "stdout",
          "text": [
            "Please enter your value = 120\n",
            "2416.2162162162163\n"
          ]
        }
      ]
    },
    {
      "cell_type": "code",
      "source": [
        "#TASK=12\n",
        "time=int(input(\"Please enter hour=\"))\n",
        "\n",
        "if (4 <= time <= 6):\n",
        "   print(\"Breakfast\")\n",
        "elif (12 <= time <= 13):\n",
        "  print(\"Lunch\")\n",
        "elif (16 <= time <= 17):\n",
        "  print(\"Snacks\")\n",
        "elif (19 <= time <= 20):\n",
        "  print(\"Dinner\")\n",
        "elif (time<0) or (time>23):\n",
        "  print(\"Wrong Time\")\n",
        "else:\n",
        "  print(\"PATIENCE IS A VIRTUE\")"
      ],
      "metadata": {
        "colab": {
          "base_uri": "https://localhost:8080/"
        },
        "id": "keVqi2Jy_tid",
        "outputId": "142cdcbf-d20a-41b7-b9fb-a3ba30883362"
      },
      "execution_count": null,
      "outputs": [
        {
          "output_type": "stream",
          "name": "stdout",
          "text": [
            "Please enter hour=21\n",
            "PATIENCE IS A VIRTUE\n"
          ]
        }
      ]
    },
    {
      "cell_type": "code",
      "source": [
        "#TASK=13\n",
        "mark=int(input(\"Please enter your mark = \"))\n",
        "\n",
        "if (90<=mark<=100):\n",
        "  print(\"A\")\n",
        "elif (mark>=80) and (mark<=89):\n",
        "    print(\"B\")\n",
        "elif (mark>=70) and (mark<=79):\n",
        "    print(\"C\")\n",
        "elif (mark>=60) and (mark<=69):\n",
        "    print(\"D\")\n",
        "elif (mark>=50) and (mark<=59):\n",
        "    print(\"E\")\n",
        "elif(0<=mark<=40):\n",
        "    print(\"F\")\n",
        "else:\n",
        "  print(\"invalid mark\")\n"
      ],
      "metadata": {
        "colab": {
          "base_uri": "https://localhost:8080/"
        },
        "id": "nAR9p_RSBHSd",
        "outputId": "61e0f97e-6a67-46ee-f783-8129ff0d10e9"
      },
      "execution_count": null,
      "outputs": [
        {
          "output_type": "stream",
          "name": "stdout",
          "text": [
            "Please enter your mark = 60\n",
            "D\n"
          ]
        }
      ]
    },
    {
      "cell_type": "code",
      "source": [
        "#TASK=14\n",
        "distance_meters = int(input(\"Please enter distance = \"))\n",
        "time_seconds = int(input(\"Please enter a time = \"))\n",
        "velocity = (distance_meters/1000)/(time_seconds/3600)\n",
        "print(velocity,\"km/h\")\n",
        "\n",
        "if(velocity<60):\n",
        "  print(\"Too slow. Needs more change.\")\n",
        "elif(60<=velocity<=90):\n",
        "  print(\"Velocity is okay.The car is ready now!\")\n",
        "else:\n",
        "  print(\"Too fast.Only a few changes should suffice.\")"
      ],
      "metadata": {
        "colab": {
          "base_uri": "https://localhost:8080/"
        },
        "id": "jUvVMJdgOakn",
        "outputId": "f28e02b1-0a66-44ba-d716-02c2903acc57"
      },
      "execution_count": null,
      "outputs": [
        {
          "output_type": "stream",
          "name": "stdout",
          "text": [
            "Please enter distance = 10\n",
            "Please enter a time = 10\n",
            "3.6\n",
            "Too slow. Needs more changes!\n"
          ]
        }
      ]
    },
    {
      "cell_type": "code",
      "source": [
        "#TASK=15\n",
        "cgpa=float(input(\"enter your cgpa=\"))\n",
        "credits=int(input(\"enter your credit=\"))\n",
        "\n",
        "if(credits>=30 and 3.80<=cgpa<=4.0):\n",
        "\n",
        "  if (cgpa>=3.80 and cgpa<=3.89):\n",
        "    print(\"The student is eligible for a waiver of 25 percent \")\n",
        "  elif (cgpa>=3.90) and (cgpa<=3.94):\n",
        "    print(\"The student is eligible for a waiver of 50 percent \")\n",
        "  elif (cgpa>=3.95) and (cgpa<=3.99):\n",
        "    print(\"The student is eligible for a waiver of 75 percent \")\n",
        "  elif (cgpa==4.0):\n",
        "    print(\"The student is eligible for a waiver of 100 percent\")\n",
        "else:\n",
        "  print(\"The student is not eligible for a waiver\")"
      ],
      "metadata": {
        "colab": {
          "base_uri": "https://localhost:8080/"
        },
        "id": "z-K3RN7uOaDG",
        "outputId": "44456e1d-4ce4-49f5-e523-5ecbb48dd60e"
      },
      "execution_count": null,
      "outputs": [
        {
          "output_type": "stream",
          "name": "stdout",
          "text": [
            "enter a number=4.0\n",
            "enter your credit=29\n",
            "The student is not eligible for a waiver\n"
          ]
        }
      ]
    },
    {
      "cell_type": "markdown",
      "source": [
        "# ***UNGRADED TASK:***"
      ],
      "metadata": {
        "id": "2-7kdRH3BhzX"
      }
    },
    {
      "cell_type": "code",
      "source": [
        "#TASK=20\n",
        "num = int(input())\n",
        "if num%2 != 0 and num%5 != 0:                                             #NEITHER  NOR #\n",
        "  print(num)\n",
        "else:\n",
        "  print(\"No\")"
      ],
      "metadata": {
        "colab": {
          "base_uri": "https://localhost:8080/"
        },
        "id": "fjsA6EyXoSuU",
        "outputId": "fa8df01e-7ba0-495c-b22c-d446b44a5600"
      },
      "execution_count": null,
      "outputs": [
        {
          "output_type": "stream",
          "name": "stdout",
          "text": [
            "5\n",
            "No\n"
          ]
        }
      ]
    },
    {
      "cell_type": "code",
      "source": [
        "#TASK=21\n",
        "num = int(input())\n",
        "if num%2 != 0 or num%5 != 0:\n",
        "  print(num)\n",
        "else:\n",
        "  print(\"No\")"
      ],
      "metadata": {
        "colab": {
          "base_uri": "https://localhost:8080/"
        },
        "id": "BZzKZAnJoth_",
        "outputId": "ff53a2ef-2ab6-4360-f5b6-2589295444ec"
      },
      "execution_count": null,
      "outputs": [
        {
          "output_type": "stream",
          "name": "stdout",
          "text": [
            "20\n",
            "No\n"
          ]
        }
      ]
    },
    {
      "cell_type": "code",
      "source": [
        "#TASK=22\n",
        "canvas = int(input(\"Please enter the number of canvases=\"))\n",
        "tube = int(input(\"Please enter the number of paint tubes=\"))\n",
        "pay = total = canvas*120+tube*75\n",
        "if pay >= 1000:\n",
        "  pay -= 150\n",
        "elif pay >= 750:\n",
        "  pay -= 50\n",
        "elif pay >= 500:\n",
        "  pay -= 20\n",
        "elif pay >= 300:\n",
        "  pay -= 10\n",
        "print(\"Previous total:\", total)\n",
        "print(\"New total after discount:\", pay)"
      ],
      "metadata": {
        "colab": {
          "base_uri": "https://localhost:8080/"
        },
        "id": "Ot5CX2wBpKIL",
        "outputId": "3f9755a1-8153-4976-ab98-041e8f5f8be6"
      },
      "execution_count": null,
      "outputs": [
        {
          "output_type": "stream",
          "name": "stdout",
          "text": [
            "Please enter the number of canvases=5\n",
            "Please enter the number of paint tubes=8\n",
            "Previous total: 1200\n",
            "New total after discount: 1050\n"
          ]
        }
      ]
    },
    {
      "cell_type": "code",
      "source": [
        "#TASK=23\n",
        "f = int(input())\n",
        "c = (f-32)*0.56\n",
        "print(c, \"degrees C\")\n",
        "if c < 20:\n",
        "  print(\"Winter\")\n",
        "elif c <= 25:\n",
        "  print(\"Autumn\")\n",
        "elif c < 30:\n",
        "  print(\"Spring\")\n",
        "else:\n",
        "  print(\"Summer\")"
      ],
      "metadata": {
        "colab": {
          "base_uri": "https://localhost:8080/"
        },
        "id": "WAo7mhv8qmKw",
        "outputId": "714d92f1-3918-4e4c-8d77-acaf396387fe"
      },
      "execution_count": null,
      "outputs": [
        {
          "output_type": "stream",
          "name": "stdout",
          "text": [
            "32\n",
            "0.0 degrees C\n",
            "Winter\n"
          ]
        }
      ]
    },
    {
      "cell_type": "markdown",
      "source": [
        "# ROUGH"
      ],
      "metadata": {
        "id": "wIHtUetBiIcV"
      }
    },
    {
      "cell_type": "code",
      "source": [
        "import math\n",
        "n=int(input())\n",
        "if 1<=n<=10**3:\n",
        "  for i in range(n):\n",
        "    a=float(input())\n",
        "    if 0<a<10**8:\n",
        "      area=a-((math.pi*a)/4)\n",
        "      peri= math.pi*(a**(1/2))\n",
        "      print(area,peri)"
      ],
      "metadata": {
        "colab": {
          "base_uri": "https://localhost:8080/"
        },
        "id": "t3Es6s2k1522",
        "outputId": "4778b814-6cb3-419d-fc55-cc0f09cfd0d1"
      },
      "execution_count": null,
      "outputs": [
        {
          "output_type": "stream",
          "name": "stdout",
          "text": [
            "1\n",
            "3\n",
            "0.6438055098076552 5.441398092702653\n"
          ]
        }
      ]
    },
    {
      "cell_type": "code",
      "source": [
        "num_1 = int(input(\"Please enter a number:\"))\n",
        "num_2 = int(input(\"Please enter a number:\"))\n",
        "\n",
        "if(num_1>num_2):\n",
        "  print(num_1-num_2)\n",
        "\n",
        "else:\n",
        "  print(num_2-num_1)"
      ],
      "metadata": {
        "colab": {
          "base_uri": "https://localhost:8080/"
        },
        "id": "W49dRGDuSdTu",
        "outputId": "e90d3b52-7f62-411f-fb02-b08ae36502b4"
      },
      "execution_count": null,
      "outputs": [
        {
          "output_type": "stream",
          "name": "stdout",
          "text": [
            "Please enter a number:5\n",
            "Please enter a number:5\n",
            "0\n"
          ]
        }
      ]
    },
    {
      "cell_type": "code",
      "source": [
        "s = int(input(\"Please enter your value = \"))\n",
        "\n",
        "if (s<100):\n",
        "  print(3000-(125*s**2))\n",
        "\n",
        "elif (s>=100):\n",
        "  print(12000/(4+s**2/14900))"
      ],
      "metadata": {
        "colab": {
          "base_uri": "https://localhost:8080/"
        },
        "id": "1ny8kog5Z-ST",
        "outputId": "708a0618-a62c-4d4e-87c5-fed5967d5649"
      },
      "execution_count": null,
      "outputs": [
        {
          "output_type": "stream",
          "name": "stdout",
          "text": [
            "Please enter your value = 3\n",
            "1875\n"
          ]
        }
      ]
    },
    {
      "cell_type": "code",
      "source": [
        "print(5+4==10)"
      ],
      "metadata": {
        "colab": {
          "base_uri": "https://localhost:8080/"
        },
        "id": "riwxdVnHJuqf",
        "outputId": "33ed36c7-9826-497a-d44d-62b027b1dedf"
      },
      "execution_count": null,
      "outputs": [
        {
          "output_type": "stream",
          "name": "stdout",
          "text": [
            "False\n"
          ]
        }
      ]
    },
    {
      "cell_type": "code",
      "source": [],
      "metadata": {
        "id": "0UysKBGTMYf8"
      },
      "execution_count": null,
      "outputs": []
    }
  ]
}